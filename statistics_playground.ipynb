{
 "cells": [
  {
   "cell_type": "code",
   "execution_count": 1,
   "metadata": {
    "collapsed": true
   },
   "outputs": [
    {
     "name": "stdout",
     "output_type": "stream",
     "text": [
      "样本均值: 1111.35\n",
      "statistic: -0.8043067483882222\n",
      "pvalue: 0.43116914845890564\n"
     ]
    }
   ],
   "source": [
    "from scipy import stats\n",
    "import numpy as np\n",
    "\n",
    "#单样本t检验\n",
    "sample=[809, 1250, 689, 1541, 995, 1234, 1024, 920, 777, 2510,\n",
    "        2301, 540, 850, 895, 1024, 1000, 1025, 863, 875, 1105]\n",
    "sample = np.asarray(sample)\n",
    "m = np.mean(sample)\n",
    "print(\"样本均值:\",m)\n",
    "#单样本检验用stats.ttest_1samp\n",
    "r = stats.ttest_1samp(sample, 1200, axis=0)\n",
    "print(\"statistic:\", r.__getattribute__(\"statistic\"))\n",
    "print(\"pvalue:\", r.__getattribute__(\"pvalue\"))"
   ]
  }
 ],
 "metadata": {
  "kernelspec": {
   "display_name": "Python 3",
   "language": "python",
   "name": "python3"
  },
  "language_info": {
   "codemirror_mode": {
    "name": "ipython",
    "version": 2
   },
   "file_extension": ".py",
   "mimetype": "text/x-python",
   "name": "python",
   "nbconvert_exporter": "python",
   "pygments_lexer": "ipython2",
   "version": "2.7.6"
  }
 },
 "nbformat": 4,
 "nbformat_minor": 0
}
