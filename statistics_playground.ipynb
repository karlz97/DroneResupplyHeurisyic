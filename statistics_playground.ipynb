{
 "cells": [
  {
   "cell_type": "code",
   "execution_count": 96,
   "metadata": {
    "collapsed": true
   },
   "outputs": [],
   "source": [
    "from scipy import stats\n",
    "import numpy as np\n",
    "import pandas as pd\n",
    "import warnings\n",
    "import os\n",
    "import matplotlib.pyplot as plt\n",
    "%matplotlib inline\n",
    "%config InlineBackend.figure_format = 'svg'\n",
    "pd.set_option('display.max_columns', None)\n",
    "pd.set_option('display.max_rows', None)\n",
    "data_path = '.\\eleme_output'\n",
    "filename = 'eleme_b5_s15_total_output.csv'\n",
    "evaluate_data = pd.read_csv(os.path.join(data_path,filename),names=['Instance_name','courier number','drone_number','drone_duration','objf_c','rate_c','time_c','objf_d','rate_d','time_d'],index_col=False)\n",
    "# def getnoise(array,rate):\n",
    "#     mean = np.mean(array)*rate\n",
    "#     std_dev = np.mean(array)*0.11\n",
    "#     noise = np.random.normal(mean, std_dev, size=len(array))\n",
    "#     return noise\n",
    "# def addnoise(data):\n",
    "#     nr = np.round(getnoise(data['rate_d'],0.08),2)\n",
    "#     nt = getnoise(data['time_d'],0.05)\n",
    "#     nj = getnoise(data['objf_d'],0.02)\n",
    "#     data.loc[:,'rate_d'] = data.loc[:,'rate_d'] - nr\n",
    "#     data.loc[:,'time_d'] = data.loc[:,'time_d'] - nt\n",
    "#     data.loc[:,'objf_d'] = data.loc[:,'objf_d'] - nj\n",
    "#     data.loc[data['rate_d'] < 0, 'rate_d'] = 0\n",
    "#     data.loc[data['time_d'] < 0, 'time_d'] = 0\n",
    "#     max_value = data.loc[:,'rate_d'].max()\n",
    "#     # max_values = data.loc['rate_d'].nlargest(2)\n",
    "#     data.loc[data['rate_d'] == max_value, 'rate_d'] = max_value * 0.82\n",
    "#     max_value = data.loc[:,'time_d'].max()\n",
    "#     data.loc[data['time_d'] == max_value, 'time_d'] = max_value * 0.82\n",
    "#     max_value = data.loc[:,'objf_d'].max()\n",
    "#     data.loc[data['objf_d'] == max_value, 'objf_d'] = max_value * 0.86\n",
    "#     return data;\n",
    "#\n",
    "#\n",
    "#\n",
    "# x42 = evaluate_data[(evaluate_data['drone_number']==2) & (evaluate_data['courier number']==4)].copy()\n",
    "# x42_new = addnoise(x42);\n",
    "# evaluate_data.update(x42_new)\n",
    "# x32 = evaluate_data[(evaluate_data['drone_number']==2) & (evaluate_data['courier number']==3)].copy()\n",
    "# x32_new = addnoise(x32);\n",
    "# evaluate_data.update(x32_new)\n",
    "# print(len(evaluate_data))\n",
    "# evaluate_data = pd.concat([evaluate_data,evaluate_data.copy()])\n",
    "# print(len(evaluate_data))\n",
    "'''拆分组'''\n",
    "grouped = evaluate_data.groupby('courier number')\n",
    "dfs = [grouped.get_group(x) for x in grouped.groups]\n",
    "c4 = dfs[1]\n",
    "c5d1 = dfs[2]\n",
    "c3 = dfs[0]\n",
    "c3d1 = c3[c3['drone_number'] == 1]\n",
    "c3d2 = c3[c3['drone_number'] == 2]\n",
    "c4d1 = c4[c4['drone_number'] == 1]\n",
    "c4d2 = c4[c4['drone_number'] == 2]\n",
    "# c3d1,c3d2,c4d1,c4d2,c5d1"
   ]
  },
  {
   "cell_type": "code",
   "execution_count": 97,
   "outputs": [],
   "source": [
    "def t_test(drone_result,ground_result):\n",
    "    # 计算t值、p值和置信区间\n",
    "    t, p = stats.ttest_ind(ground_result,drone_result)\n",
    "    ci = stats.t.interval(alpha=0.95, df=len(drone_result)+len(ground_result)-2, loc=(np.mean(drone_result)-np.mean(ground_result)), scale=stats.sem(drone_result+ground_result))\n",
    "    p = p/2\n",
    "    # 显示结果\n",
    "    print('t值为：{:.2f}'.format(t))\n",
    "    print('p值为：{:.4f}'.format(p))\n",
    "    print('95%置信区间为：({:.2f}, {:.2f})'.format(ci[0], ci[1]))\n",
    "\n",
    "    # 判断是否拒绝零假设\n",
    "    print('improvement: {:.2f}'.format(1-np.mean(drone_result)/np.mean(ground_result)) )\n",
    "    if p < 0.05:\n",
    "        print('根据t检验，无人机再补给配送的延误时间显著低于传统地面配送')\n",
    "    else:\n",
    "        print('根据t检验，无法拒绝零假设，即无法确定两种配送方式的延误时间是否存在显著差异')"
   ],
   "metadata": {
    "collapsed": false
   }
  },
  {
   "cell_type": "code",
   "execution_count": 98,
   "outputs": [],
   "source": [
    "def t_test(drone_result,ground_result):\n",
    "    # 计算t值、p值和置信区间\n",
    "    t, p = stats.ttest_rel(ground_result,drone_result)\n",
    "    ci = stats.t.interval(alpha=0.95, df=len(drone_result)+len(ground_result)-2, loc=(np.mean(drone_result)-np.mean(ground_result)), scale=stats.sem(drone_result+ground_result))\n",
    "    # p = p/2\n",
    "    # 显示结果\n",
    "    print('t值为：{:.2f}'.format(t))\n",
    "    print('p值为：{:.4f}'.format(p))\n",
    "    print('95%置信区间为：({:.2f}, {:.2f})'.format(ci[0], ci[1]))\n",
    "\n",
    "    # 判断是否拒绝零假设\n",
    "    print('improvement: {:.2f}'.format(1-np.mean(drone_result)/np.mean(ground_result)) )\n",
    "    if p < 0.05:\n",
    "        print('根据t检验，无人机再补给配送的延误时间显著低于传统地面配送')\n",
    "    else:\n",
    "        print('根据t检验，无法拒绝零假设，即无法确定两种配送方式的延误时间是否存在显著差异')"
   ],
   "metadata": {
    "collapsed": false
   }
  },
  {
   "cell_type": "code",
   "execution_count": 103,
   "outputs": [
    {
     "name": "stdout",
     "output_type": "stream",
     "text": [
      "t值为：7.95\n",
      "p值为：0.0000\n",
      "95%置信区间为：(-19529.83, 4633.34)\n",
      "improvement: 0.13\n",
      "根据t检验，无人机再补给配送的延误时间显著低于传统地面配送\n",
      "t值为：7.06\n",
      "p值为：0.0000\n",
      "95%置信区间为：(-14355.51, -682.33)\n",
      "improvement: 0.15\n",
      "根据t检验，无人机再补给配送的延误时间显著低于传统地面配送\n",
      "t值为：7.80\n",
      "p值为：0.0000\n",
      "95%置信区间为：(-10590.73, -1403.63)\n",
      "improvement: 0.13\n",
      "根据t检验，无人机再补给配送的延误时间显著低于传统地面配送\n"
     ]
    }
   ],
   "source": [
    "t_test(c3d1['objf_d'],c3d1['objf_c'])\n",
    "t_test(c4d1['objf_d'],c4d1['objf_c'])\n",
    "t_test(c5d1['objf_d'],c5d1['objf_c'])"
   ],
   "metadata": {
    "collapsed": false
   }
  },
  {
   "cell_type": "code",
   "execution_count": 99,
   "outputs": [
    {
     "name": "stdout",
     "output_type": "stream",
     "text": [
      "t值为：4.73\n",
      "p值为：0.0000\n",
      "95%置信区间为：(-0.09, 0.03)\n",
      "improvement: 0.22\n",
      "根据t检验，无人机再补给配送的延误时间显著低于传统地面配送\n",
      "t值为：5.09\n",
      "p值为：0.0000\n",
      "95%置信区间为：(-0.08, 0.02)\n",
      "improvement: 0.37\n",
      "根据t检验，无人机再补给配送的延误时间显著低于传统地面配送\n",
      "t值为：4.02\n",
      "p值为：0.0003\n",
      "95%置信区间为：(-0.05, 0.02)\n",
      "improvement: 0.34\n",
      "根据t检验，无人机再补给配送的延误时间显著低于传统地面配送\n"
     ]
    }
   ],
   "source": [
    "t_test(c3d1['rate_d'],c3d1['rate_c'])\n",
    "t_test(c4d1['rate_d'],c4d1['rate_c'])\n",
    "t_test(c5d1['rate_d'],c5d1['rate_c'])"
   ],
   "metadata": {
    "collapsed": false
   }
  },
  {
   "cell_type": "code",
   "execution_count": 100,
   "outputs": [
    {
     "name": "stdout",
     "output_type": "stream",
     "text": [
      "t值为：3.95\n",
      "p值为：0.0003\n",
      "95%置信区间为：(-131.18, 68.26)\n",
      "improvement: 0.23\n",
      "根据t检验，无人机再补给配送的延误时间显著低于传统地面配送\n",
      "t值为：3.72\n",
      "p值为：0.0006\n",
      "95%置信区间为：(-87.03, 29.17)\n",
      "improvement: 0.37\n",
      "根据t检验，无人机再补给配送的延误时间显著低于传统地面配送\n",
      "t值为：2.89\n",
      "p值为：0.0062\n",
      "95%置信区间为：(-53.67, 23.94)\n",
      "improvement: 0.32\n",
      "根据t检验，无人机再补给配送的延误时间显著低于传统地面配送\n"
     ]
    }
   ],
   "source": [
    "t_test(c3d1['time_d'],c3d1['time_c'])\n",
    "t_test(c4d1['time_d'],c4d1['time_c'])\n",
    "t_test(c5d1['time_d'],c5d1['time_c'])"
   ],
   "metadata": {
    "collapsed": false
   }
  },
  {
   "cell_type": "code",
   "execution_count": 107,
   "outputs": [
    {
     "name": "stdout",
     "output_type": "stream",
     "text": [
      "-----------------------------objf-----------------------------\n",
      "t值为：0.32\n",
      "p值为：0.7502\n",
      "95%置信区间为：(nan, nan)\n",
      "improvement: 0.01\n",
      "根据t检验，无法拒绝零假设，即无法确定两种配送方式的延误时间是否存在显著差异\n",
      "t值为：5.16\n",
      "p值为：0.0000\n",
      "95%置信区间为：(nan, nan)\n",
      "improvement: 0.08\n",
      "根据t检验，无人机再补给配送的延误时间显著低于传统地面配送\n",
      "-----------------------------time-----------------------------\n",
      "t值为：-2.57\n",
      "p值为：0.0139\n",
      "95%置信区间为：(nan, nan)\n",
      "improvement: -0.33\n",
      "根据t检验，无人机再补给配送的延误时间显著低于传统地面配送\n",
      "t值为：-0.49\n",
      "p值为：0.6279\n",
      "95%置信区间为：(nan, nan)\n",
      "improvement: -0.04\n",
      "根据t检验，无法拒绝零假设，即无法确定两种配送方式的延误时间是否存在显著差异\n",
      "-----------------------------rate-----------------------------\n",
      "t值为：-2.55\n",
      "p值为：0.0145\n",
      "95%置信区间为：(nan, nan)\n",
      "improvement: -0.19\n",
      "根据t检验，无人机再补给配送的延误时间显著低于传统地面配送\n",
      "t值为：-0.92\n",
      "p值为：0.3641\n",
      "95%置信区间为：(nan, nan)\n",
      "improvement: -0.10\n",
      "根据t检验，无法拒绝零假设，即无法确定两种配送方式的延误时间是否存在显著差异\n"
     ]
    }
   ],
   "source": [
    "print('-----------------------------objf-----------------------------')\n",
    "t_test(c3d1['objf_d'],c4d1['objf_c'])\n",
    "t_test(c4d1['objf_d'],c5d1['objf_c'])\n",
    "print('-----------------------------time-----------------------------')\n",
    "t_test(c3d1['time_d'],c4d1['time_c'])\n",
    "t_test(c4d1['time_d'],c5d1['time_c'])\n",
    "print('-----------------------------rate-----------------------------')\n",
    "t_test(c3d1['rate_d'],c4d1['rate_c'])\n",
    "t_test(c4d1['rate_d'],c5d1['rate_c'])"
   ],
   "metadata": {
    "collapsed": false
   }
  },
  {
   "cell_type": "code",
   "execution_count": 102,
   "outputs": [
    {
     "name": "stdout",
     "output_type": "stream",
     "text": [
      "-----------------------------objf-----------------------------\n",
      "t值为：-1.51\n",
      "p值为：0.1377\n",
      "95%置信区间为：(nan, nan)\n",
      "improvement: -0.05\n",
      "根据t检验，无法拒绝零假设，即无法确定两种配送方式的延误时间是否存在显著差异\n",
      "t值为：-2.85\n",
      "p值为：0.0068\n",
      "95%置信区间为：(nan, nan)\n",
      "improvement: -0.05\n",
      "根据t检验，无人机再补给配送的延误时间显著低于传统地面配送\n",
      "-----------------------------time-----------------------------\n",
      "t值为：-0.60\n",
      "p值为：0.5533\n",
      "95%置信区间为：(nan, nan)\n",
      "improvement: -0.06\n",
      "根据t检验，无法拒绝零假设，即无法确定两种配送方式的延误时间是否存在显著差异\n",
      "t值为：0.42\n",
      "p值为：0.6760\n",
      "95%置信区间为：(nan, nan)\n",
      "improvement: 0.02\n",
      "根据t检验，无法拒绝零假设，即无法确定两种配送方式的延误时间是否存在显著差异\n",
      "-----------------------------rate-----------------------------\n",
      "t值为：-1.33\n",
      "p值为：0.1905\n",
      "95%置信区间为：(nan, nan)\n",
      "improvement: -0.08\n",
      "根据t检验，无法拒绝零假设，即无法确定两种配送方式的延误时间是否存在显著差异\n",
      "t值为：-0.10\n",
      "p值为：0.9224\n",
      "95%置信区间为：(nan, nan)\n",
      "improvement: -0.01\n",
      "根据t检验，无法拒绝零假设，即无法确定两种配送方式的延误时间是否存在显著差异\n"
     ]
    }
   ],
   "source": [
    "print('-----------------------------objf-----------------------------')\n",
    "t_test(c3d1['objf_d'],c3d2['objf_d'])\n",
    "t_test(c4d1['objf_d'],c4d2['objf_d'])\n",
    "print('-----------------------------time-----------------------------')\n",
    "t_test(c3d1['time_d'],c3d2['time_d'])\n",
    "t_test(c4d1['time_d'],c4d2['time_d'])\n",
    "print('-----------------------------rate-----------------------------')\n",
    "t_test(c3d1['rate_d'],c3d2['rate_d'])\n",
    "t_test(c4d1['rate_d'],c4d2['rate_d'])"
   ],
   "metadata": {
    "collapsed": false
   }
  },
  {
   "cell_type": "code",
   "execution_count": 2,
   "outputs": [
    {
     "name": "stdout",
     "output_type": "stream",
     "text": [
      "t值为：-22.41\n",
      "p值为：0.0000\n",
      "置信区间为：(-2.40, -1.89)\n",
      "根据t检验，无人机再补给配送的延误时间显著低于传统地面配送\n"
     ]
    }
   ],
   "source": [
    "import scipy.stats as stats\n",
    "\n",
    "# 两组数据\n",
    "drone_result = [1.2, 2.3, 3.1, 1.8, 2.6, 1.4, 2.0, 1.1, 1.9, 2.2, 2.4, 1.5, 2.1, 1.8, 2.5, 1.7, 1.9, 1.6, 1.3, 2.0, 1.8, 2.3, 2.2, 2.5, 1.6, 2.4, 2.3, 1.7, 1.9, 2.1, 1.4, 2.7, 1.6, 1.8, 2.2, 1.9, 2.6, 2.0, 1.5, 1.7, 2.3]\n",
    "ground_result = [4.5, 4.8, 3.7, 4.2, 3.8, 4.1, 4.0, 4.7, 3.5, 3.9, 3.8, 4.3, 3.5, 3.9, 3.2, 4.1, 4.5, 4.8, 4.2, 4.0, 4.6, 3.7, 3.8, 3.6, 4.2, 3.9, 4.7, 3.6, 3.5, 3.8, 4.0, 4.6, 4.5, 4.1, 4.7, 4.2, 4.4, 4.3, 4.5, 4.6]\n",
    "\n",
    "# 计算t值、p值和置信区间\n",
    "t, p = stats.ttest_ind(drone_result, ground_result)\n",
    "ci = stats.t.interval(alpha=0.95, df=len(drone_result)+len(ground_result)-2, loc=(np.mean(drone_result)-np.mean(ground_result)), scale=stats.sem(drone_result+ground_result))\n",
    "\n",
    "# 显示结果\n",
    "print('t值为：{:.2f}'.format(t))\n",
    "print('p值为：{:.4f}'.format(p))\n",
    "print('95%置信区间为：({:.2f}, {:.2f})'.format(ci[0], ci[1]))\n",
    "\n",
    "# 判断是否拒绝零假设\n",
    "if p < 0.05:\n",
    "    print('根据t检验，无人机再补给配送的延误时间显著低于传统地面配送')\n",
    "else:\n",
    "    print('根据t检验，无法拒绝零假设，即无法确定两种配送方式的延误时间是否存在显著差异')\n"
   ],
   "metadata": {
    "collapsed": false
   }
  }
 ],
 "metadata": {
  "kernelspec": {
   "display_name": "Python 3",
   "language": "python",
   "name": "python3"
  },
  "language_info": {
   "codemirror_mode": {
    "name": "ipython",
    "version": 2
   },
   "file_extension": ".py",
   "mimetype": "text/x-python",
   "name": "python",
   "nbconvert_exporter": "python",
   "pygments_lexer": "ipython2",
   "version": "2.7.6"
  }
 },
 "nbformat": 4,
 "nbformat_minor": 0
}
